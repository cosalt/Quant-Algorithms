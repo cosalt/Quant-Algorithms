{
 "cells": [
  {
   "cell_type": "code",
   "execution_count": null,
   "id": "4613f5a8",
   "metadata": {},
   "outputs": [],
   "source": [
    "from IPython.display import display, Math\n",
    "\n",
    "# The LaTeX for the Carhart Four-Factor Model\n",
    "formula = r'E(R_i) = R_f + \\beta_{mkt}(E(R_m) - R_f) + \\beta_{smb} \\cdot SMB + \\beta_{hml} \\cdot HML + \\beta_{mom} \\cdot MOM'\n",
    "\n",
    "display(Math(formula))"
   ]
  }
 ],
 "metadata": {
  "language_info": {
   "name": "python"
  }
 },
 "nbformat": 4,
 "nbformat_minor": 5
}

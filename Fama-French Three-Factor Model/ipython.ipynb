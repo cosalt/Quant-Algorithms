{
 "cells": [
  {
   "cell_type": "code",
   "execution_count": 1,
   "id": "8d8e6195",
   "metadata": {},
   "outputs": [
    {
     "data": {
      "text/latex": [
       "$\\displaystyle E(R_i) = R_f + \\beta_{mkt}(E(R_m) - R_f) + \\beta_{smb} \\cdot SMB + \\beta_{hml} \\cdot HML$"
      ],
      "text/plain": [
       "<IPython.core.display.Math object>"
      ]
     },
     "metadata": {},
     "output_type": "display_data"
    }
   ],
   "source": [
    "from IPython.display import display, Math\n",
    "\n",
    "# The LaTeX for the Fama-French Three-Factor Model\n",
    "formula = r'E(R_i) = R_f + \\beta_{mkt}(E(R_m) - R_f) + \\beta_{smb} \\cdot SMB + \\beta_{hml} \\cdot HML'\n",
    "\n",
    "display(Math(formula))"
   ]
  }
 ],
 "metadata": {
  "kernelspec": {
   "display_name": "Python 3",
   "language": "python",
   "name": "python3"
  },
  "language_info": {
   "codemirror_mode": {
    "name": "ipython",
    "version": 3
   },
   "file_extension": ".py",
   "mimetype": "text/x-python",
   "name": "python",
   "nbconvert_exporter": "python",
   "pygments_lexer": "ipython3",
   "version": "3.9.6"
  }
 },
 "nbformat": 4,
 "nbformat_minor": 5
}
